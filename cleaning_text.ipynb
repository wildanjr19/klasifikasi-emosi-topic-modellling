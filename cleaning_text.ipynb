{
 "cells": [
  {
   "cell_type": "code",
   "execution_count": 2,
   "id": "dcb0d199",
   "metadata": {},
   "outputs": [],
   "source": [
    "import pandas as pd\n",
    "import re\n",
    "import string\n",
    "import emoji"
   ]
  },
  {
   "cell_type": "code",
   "execution_count": 3,
   "id": "b1141bcc",
   "metadata": {},
   "outputs": [],
   "source": [
    "# cleaning function\n",
    "def cleaning(text):\n",
    "    \n",
    "    # hapus urls\n",
    "    text = re.sub(r'http\\S+|www\\.\\S+', '', text)\n",
    "\n",
    "    # Hapus mention\n",
    "    text = re.sub(r'@\\w+', '', text)\n",
    "\n",
    "    # Hapus hashtag, hanya menyimpan kata setelah tanda #\n",
    "    text = re.sub(r'#', '', text)\n",
    "\n",
    "    # Hapus angka\n",
    "    text = re.sub(r'\\d+', '', text)\n",
    "\n",
    "    # Hapus tanda baca\n",
    "    text = text.translate(str.maketrans('', '', string.punctuation))\n",
    "\n",
    "    # Hapus emoji\n",
    "    text = emoji.replace_emoji(text, replace='')\n",
    "\n",
    "    # Hapus whitespace berlebih\n",
    "    text = re.sub(r'\\s+', ' ', text).strip()\n",
    "\n",
    "    # Ubah menjadi huruf kecil\n",
    "    text = text.lower()\n",
    "\n",
    "    return text\n"
   ]
  },
  {
   "cell_type": "code",
   "execution_count": 6,
   "id": "c695e15c",
   "metadata": {},
   "outputs": [
    {
     "data": {
      "application/vnd.microsoft.datawrangler.viewer.v0+json": {
       "columns": [
        {
         "name": "index",
         "rawType": "int64",
         "type": "integer"
        },
        {
         "name": "Wisatawan Lokal",
         "rawType": "bool",
         "type": "boolean"
        },
        {
         "name": "Review",
         "rawType": "object",
         "type": "string"
        },
        {
         "name": "Nama Tempat",
         "rawType": "object",
         "type": "string"
        }
       ],
       "conversionMethod": "pd.DataFrame",
       "ref": "1b0cf035-97f1-48ec-9a02-b34c4453ee1c",
       "rows": [
        [
         "0",
         "True",
         "Hidden gem",
         "Goa Gong Pacitan"
        ],
        [
         "1",
         "True",
         "Goa yang sangat menarik, wajib dikunjungi untuk menambah wawasan tentang alam",
         "Goa Gong Pacitan"
        ],
        [
         "2",
         "True",
         "Hosjosssss",
         "Goa Gong Pacitan"
        ],
        [
         "3",
         "True",
         "resik resik,,\ntour gaetnya ramah,,\nistimewa,,",
         "Goa Gong Pacitan"
        ],
        [
         "4",
         "True",
         "Cool",
         "Goa Gong Pacitan"
        ],
        [
         "5",
         "True",
         "Tempat wisata nyg luar biasa keindahan nya. Patut untuk dicoba datang bersama keluarga tercinta...",
         "Goa Gong Pacitan"
        ],
        [
         "6",
         "True",
         "Recomend untuk trip ke Pacitan.",
         "Goa Gong Pacitan"
        ],
        [
         "7",
         "True",
         "Pemandangan alam yang sangat bagus,",
         "Goa Gong Pacitan"
        ],
        [
         "8",
         "True",
         "Goa tercantik se Asia Tenggara. Kalau kesini wajib fit karena jalurnya lumayan. Masuk area goa juga harus hati hati. Setelah masuk anda akan disuguhi view menarik stalaktit stalagmit yang masih aktif",
         "Goa Gong Pacitan"
        ],
        [
         "9",
         "True",
         "Goa Gong menyuguhkan pemandangan stalaktit dan stalagmit yang indah. Walaupun tempat parkir bus jauh dari lokasi goa, namun ada jasa ojek yang siap mengantarkan ke tempat wisata.\nBagi yang ingin menyusuri goa sampai ke bawah bisa berpegangan di handle yang disediakan dan hati-hati karena tangganya agak licin karena tetesan air dari atas dan curam.\nWisatawan yang phobia ruang sempit atau memiliki masalah pernapasan harap berhati-hati karena mulut goa sempit dan di dalam agak panas.\nTapi semua itu terbayar lunas dengan pemandangan indah di dalam goa. Selamat mengeksplorasi.",
         "Goa Gong Pacitan"
        ],
        [
         "10",
         "False",
         "Mantap",
         "Goa Gong Pacitan"
        ],
        [
         "11",
         "True",
         "Alami natural banget",
         "Goa Gong Pacitan"
        ],
        [
         "12",
         "True",
         "Tres chouette",
         "Goa Gong Pacitan"
        ],
        [
         "13",
         "True",
         "Goa nya oke, banyak stalaktit dan stalakmit nya yang unik. Ada banyak pedagang di deket goanya, jadi bisa buat oleh-oleh. Overall, good but nothing special.",
         "Goa Gong Pacitan"
        ],
        [
         "14",
         "True",
         "Amazing ....",
         "Goa Gong Pacitan"
        ],
        [
         "15",
         "True",
         "Goa tercantik dan terindah di Pacitan ,,\nBukti ke Besaran Allah S.W.T  karena ciptaannya itu emg luar biasa indahnya..",
         "Goa Gong Pacitan"
        ],
        [
         "16",
         "False",
         "Ada tour guide yang mendampingi serta menceritakan seluk beluk goa gong..",
         "Goa Gong Pacitan"
        ],
        [
         "17",
         "True",
         "Goa bawah tanah yang sangat menakjubkan. Sungguh sangat-sangat indah. Kedua kalinya saya kesini.\nMungkin karena konsep goa alami jadi secara penerangan di buat minim. Meski ada blowernya tapi tetap di dalam goa terasa sangat panas dan lembab. Tapi hal ini masih wajar karena di dalam goa minim sirkulasi udara.\nApalagi saat pengunjungnya banyak terasa tambah gerahnya.\nDi dalam jalannya berupa tangga dari semen cor, di beberapa bagian cukup curam dan licin. Jadi wajib hati2 dan di sarankan bawa senter. Agar jalannya lebih tampak.\nLokasi pintu masuk goa tidak jauh dari parkiran, bisa jalan kaki kalau mau, kalau malas bisa pakai ojek. Tapi lokasi goanya masih jauh dari pintu masuknya, jadi harus jalan menanjak terlebih dahulu. Jalan menuju goa sudah tangga semen cor juga kok.\nAda yang jual cinderamata berupa gelang2 dari batu alam yang cantik2. Penjual makanan juga ada dan tidak terlalu mahal.",
         "Goa Gong Pacitan"
        ],
        [
         "18",
         "False",
         "Wisata murah meriah,tiket masuk yg 20.000 dewasa/anak anak 5000,,parkir mobil 5000 murah meriah, asyik tempatnya",
         "Goa Gong Pacitan"
        ],
        [
         "19",
         "True",
         "Tempat Bagusss, sayang orang yang nawarin jasa senter, payung, ataupun pemandu sangat menganggu. Ditolak baik² malah ngelunjak hmmmm",
         "Goa Gong Pacitan"
        ],
        [
         "20",
         "True",
         "Goa paling Bagus SE Asia tenggara",
         "Goa Gong Pacitan"
        ],
        [
         "21",
         "True",
         "salah satu wisata alam di kabupaten pacitan yang sangat megah..\nsangat cocok untuk tadabbur alam,menikmati keagungan Tuhan yang menciptakan keindahan.\ndengan harga tiket cm 15 ribu rupiah,tak sebanding dengan keindahan yg kita dapatkan.\nlokasi yg mudah dituju dan dipintu keluar kita akan disambut dengan pasar yang menjajakan",
         "Goa Gong Pacitan"
        ],
        [
         "22",
         "True",
         "masyaa Alloh.... keren",
         "Goa Gong Pacitan"
        ],
        [
         "23",
         "True",
         "Alam yang luar biasa",
         "Goa Gong Pacitan"
        ],
        [
         "24",
         "True",
         "Berkunjung ke sini bersama rombongan teman2 untuk menikmati n mensyukuri keindahan alam berupa goa alami yang indah",
         "Goa Gong Pacitan"
        ],
        [
         "25",
         "True",
         "Tidak terawat",
         "Goa Gong Pacitan"
        ],
        [
         "26",
         "False",
         "It's a beautiful i admit, but the walk after you already got out of the tunnel is time consuming not because that you need to went through dozens of vendor(i quiet like it honestly) but because before you exit you need to go to this building that are not maintained properly and leaking everywhere making it a hazard for walking in the rainy season, but overall the experience is worth it, just need some repair in the buildinv that i mention",
         "Goa Gong Pacitan"
        ],
        [
         "27",
         "False",
         "tak bisa berkata-kata udah bagus banget",
         "Goa Gong Pacitan"
        ],
        [
         "28",
         "True",
         "goanya dirawat bersih, ga expect dalamnya panas bngt tp viewnya worth it.",
         "Goa Gong Pacitan"
        ],
        [
         "29",
         "True",
         "Lokasi  pariwisata,,alam, pegunungan,,goa yg menarik suasana alam air terdengar,, berjatuhan.  Tiket murah,  parkir  luas. Mudah dikunjungi.",
         "Goa Gong Pacitan"
        ],
        [
         "30",
         "True",
         "Saya malas jalan jauh dari parkiran. Masih pula harus jalan naik turun tangga. Mau pulang juga harus muterin pasar souvenir -UNTUK APA- MasyaAllah lelah sekali. Ini contoh tempat wisata yang kalau dikelola pemda malah jadi amburadul.",
         "Goa Gong Pacitan"
        ],
        [
         "31",
         "False",
         "masyaallah sangat indah ciptaan Allah ..🫰",
         "Goa Gong Pacitan"
        ],
        [
         "32",
         "True",
         "Pas musim hujan sangat licin\nJadi tidak bisa menikmati pemandangan yang indah karena fokus supaya gak terpleset",
         "Goa Gong Pacitan"
        ],
        [
         "33",
         "True",
         "Luar biasa alami",
         "Goa Gong Pacitan"
        ],
        [
         "34",
         "True",
         "Keren banget ..nggak rugi ke sini.",
         "Goa Gong Pacitan"
        ],
        [
         "35",
         "True",
         "Bagus ..\nSaran bawa penerangan sendiri boleh .. ataumau pake jaasa sewasl senter juga bisa ...\nKalo mw pake jasa tour guide juga bisa cukup 30k ...\nHati² terpeleset ya .. karena licin ...",
         "Goa Gong Pacitan"
        ],
        [
         "36",
         "True",
         "Goa Gong, Pacitan, Jawa Timur.. masuk kategori sbg salah satu goa terindah di asia tenggara..\n\nSy dtg saat weekend, dgn HTM 20.000 /org.. dari area parkir menuju pintu masuk goa gong, berjarak sekitar +/- 400 meter dgn jalan yg menanjak.. ada jasa ojek motor dgn tarif 5.000 rupiah dan pengunjung akan diantar smp ke atas..\n\nAda pula jasa pemandu dgn tarif 30.000 rupiah, yg akan menjelaskan mengenai setiap sudut &  ruang dari goa gong, mulai dari ruang marmer, ruang kristal, sendang mata air, sampai mempraktikkan memukul stalaktit/ stalagmit tertentu yg kemudian akan menghasilkan bunyi sprt gong..\n\nAda jasa penyewaan senter juga dgn tarif 5.000 rupiah, krn di dlm cukup gelap, walaupun sudah difasilitasi dgn adanya bbrp sumber penerangan..\n\nBanyak pedagang oleh² mulai dari makanan camilan, pakaian, sampai batu akik..\n\nDi dlm goa, ada lampu warna warni yg di pasang utk memberikan efek dramatis..  selalu perhatikan langkah, krn goa meneteskan air yg membuat jalan mnjd licin..",
         "Goa Gong Pacitan"
        ],
        [
         "37",
         "True",
         "Terakhir menjelajahi goa itu waktu aku masih umur 8 tahunan kali ya. Dan 17 tahun kemudian aku mencoba untuk menjelajahi goa gong di pacitan. Awalnya agak kesel, ditawarin ojek karena katanya jauh. Tapi baru  naik ternyata udah langsung sampai aja. Padahal yang jalannya agak panjang tuh dari pintu masuk ke lokasi goa nya hahaha tapi overall aku puas dengan pemandangan yang disuguhkan. Kaya kembali ke masa anak” yang melihat sesuatu yang indah itu langsung takjub. Cuman agak nyesel kemarin  menolak tawaran pake pemandu wisata, karena pikirnya paling bosen. Gak akan lama ditempat itu",
         "Goa Gong Pacitan"
        ],
        [
         "38",
         "True",
         "Kesini sekitar jam 3 sore dan untungnya sudah sepi, jadi ngga crowded.\nBebatuannya sangat bagus sekali, bapak guide nya juga sangat ramah",
         "Goa Gong Pacitan"
        ],
        [
         "39",
         "True",
         "Bagus. Cukup. Nggak ada kata2 lain.\n\nAgak pengap aja. Padahal masih sepi",
         "Goa Gong Pacitan"
        ],
        [
         "40",
         "False",
         "Goanya besar sekali..",
         "Goa Gong Pacitan"
        ],
        [
         "41",
         "True",
         "Jalur menuju goanya cocok buat treking. Pemandangannya bagus.\nDalam guanya sangat megah, formasi bebatuannya menakjubkan. Terdapat beberapa titik penerangan di dalam.\nSayangnya tidak ada petunjuk dimana letak batu yg berbunyi ketika dipukul, katanya harus sewa guide orang situ yang tau letaknya.",
         "Goa Gong Pacitan"
        ],
        [
         "42",
         "True",
         "Kapan lagi masuk.ke perut bumi?\n\nGua Gong ini obyek wisata yang wajib dikunjungi jika Anda senang wisata alam. Stalaktit dan stalakmitnya luar biasa indah!  Beberapa bahkan masih aktif (terus tumbuh).\nHindari akhir pekan dan waktu libur supaya bisa menikmati indahnya gua tanpa tergesa-gesa atau berdesakan. Pakai sepatu yang nyaman untuk berjalan krn Anda akan banyak naik turun undak2an.\n\nDisclaimer: bagi yang takut tempat sempit dan takut gelap tidak disarankan ya. Bagi kaum sepuh yang sulit naik turun tangga juga tidak disarankan.",
         "Goa Gong Pacitan"
        ],
        [
         "43",
         "True",
         "Terlalu banyak ibu² menawarkan lampu senter dan guide. Juga fotographer terlalu banyak malah mengganggu.",
         "Goa Gong Pacitan"
        ],
        [
         "44",
         "True",
         "Sangat indah",
         "Goa Gong Pacitan"
        ],
        [
         "45",
         "True",
         "Di dalam goa sudah terdapat beberapa blower/kipas angin",
         "Goa Gong Pacitan"
        ],
        [
         "46",
         "True",
         "cobain aja ya masuk goa dipastikan uasikkk ada petualangan tersendiri, cuman aga panas gerah.. gunakan pakain tipis/ katun biar lebih nyaman",
         "Goa Gong Pacitan"
        ],
        [
         "47",
         "True",
         "Gua karst yg ada di pegunungan.kunjungan kedua, sudah banyak perubahan",
         "Goa Gong Pacitan"
        ],
        [
         "48",
         "True",
         "Goa yang termasuk UNESCO geo park. Masuk pas weekday jadi sepi. Cuma ada 4 pengunjung. Tiket masuk kalo gak salah 20K perorang. Parkir motor 2K. Lokasi parkir motor di depan gua. Kalau parkir mobil agak jauh. Harus jalan kaki naik sekitar 100 m.",
         "Goa Gong Pacitan"
        ],
        [
         "49",
         "True",
         "Goa Alam yg cantik dgn stalagmit & stalagtitnya . Turunan tangganya curam & sempit , hrs ekstra hati3, Krn ada jg batu licin di antara turunannya , ticket hrga standar.",
         "Goa Gong Pacitan"
        ]
       ],
       "shape": {
        "columns": 3,
        "rows": 4419
       }
      },
      "text/html": [
       "<div>\n",
       "<style scoped>\n",
       "    .dataframe tbody tr th:only-of-type {\n",
       "        vertical-align: middle;\n",
       "    }\n",
       "\n",
       "    .dataframe tbody tr th {\n",
       "        vertical-align: top;\n",
       "    }\n",
       "\n",
       "    .dataframe thead th {\n",
       "        text-align: right;\n",
       "    }\n",
       "</style>\n",
       "<table border=\"1\" class=\"dataframe\">\n",
       "  <thead>\n",
       "    <tr style=\"text-align: right;\">\n",
       "      <th></th>\n",
       "      <th>Wisatawan Lokal</th>\n",
       "      <th>Review</th>\n",
       "      <th>Nama Tempat</th>\n",
       "    </tr>\n",
       "  </thead>\n",
       "  <tbody>\n",
       "    <tr>\n",
       "      <th>0</th>\n",
       "      <td>True</td>\n",
       "      <td>Hidden gem</td>\n",
       "      <td>Goa Gong Pacitan</td>\n",
       "    </tr>\n",
       "    <tr>\n",
       "      <th>1</th>\n",
       "      <td>True</td>\n",
       "      <td>Goa yang sangat menarik, wajib dikunjungi untu...</td>\n",
       "      <td>Goa Gong Pacitan</td>\n",
       "    </tr>\n",
       "    <tr>\n",
       "      <th>2</th>\n",
       "      <td>True</td>\n",
       "      <td>Hosjosssss</td>\n",
       "      <td>Goa Gong Pacitan</td>\n",
       "    </tr>\n",
       "    <tr>\n",
       "      <th>3</th>\n",
       "      <td>True</td>\n",
       "      <td>resik resik,,\\ntour gaetnya ramah,,\\nistimewa,,</td>\n",
       "      <td>Goa Gong Pacitan</td>\n",
       "    </tr>\n",
       "    <tr>\n",
       "      <th>4</th>\n",
       "      <td>True</td>\n",
       "      <td>Cool</td>\n",
       "      <td>Goa Gong Pacitan</td>\n",
       "    </tr>\n",
       "    <tr>\n",
       "      <th>...</th>\n",
       "      <td>...</td>\n",
       "      <td>...</td>\n",
       "      <td>...</td>\n",
       "    </tr>\n",
       "    <tr>\n",
       "      <th>4414</th>\n",
       "      <td>True</td>\n",
       "      <td>Menyusuri sungai maron👍👍👍</td>\n",
       "      <td>Sungai Maron Pacitan</td>\n",
       "    </tr>\n",
       "    <tr>\n",
       "      <th>4415</th>\n",
       "      <td>False</td>\n",
       "      <td>Bagus</td>\n",
       "      <td>Sungai Maron Pacitan</td>\n",
       "    </tr>\n",
       "    <tr>\n",
       "      <th>4416</th>\n",
       "      <td>False</td>\n",
       "      <td>Sangat bagus tetapi tidak puas terlalu terburu...</td>\n",
       "      <td>Sungai Maron Pacitan</td>\n",
       "    </tr>\n",
       "    <tr>\n",
       "      <th>4417</th>\n",
       "      <td>True</td>\n",
       "      <td>Hening, syahdu</td>\n",
       "      <td>Sungai Maron Pacitan</td>\n",
       "    </tr>\n",
       "    <tr>\n",
       "      <th>4418</th>\n",
       "      <td>True</td>\n",
       "      <td>Perlu remidi berkunjung</td>\n",
       "      <td>Sungai Maron Pacitan</td>\n",
       "    </tr>\n",
       "  </tbody>\n",
       "</table>\n",
       "<p>4419 rows × 3 columns</p>\n",
       "</div>"
      ],
      "text/plain": [
       "      Wisatawan Lokal                                             Review  \\\n",
       "0                True                                         Hidden gem   \n",
       "1                True  Goa yang sangat menarik, wajib dikunjungi untu...   \n",
       "2                True                                         Hosjosssss   \n",
       "3                True    resik resik,,\\ntour gaetnya ramah,,\\nistimewa,,   \n",
       "4                True                                               Cool   \n",
       "...               ...                                                ...   \n",
       "4414             True                          Menyusuri sungai maron👍👍👍   \n",
       "4415            False                                              Bagus   \n",
       "4416            False  Sangat bagus tetapi tidak puas terlalu terburu...   \n",
       "4417             True                                     Hening, syahdu   \n",
       "4418             True                            Perlu remidi berkunjung   \n",
       "\n",
       "               Nama Tempat  \n",
       "0         Goa Gong Pacitan  \n",
       "1         Goa Gong Pacitan  \n",
       "2         Goa Gong Pacitan  \n",
       "3         Goa Gong Pacitan  \n",
       "4         Goa Gong Pacitan  \n",
       "...                    ...  \n",
       "4414  Sungai Maron Pacitan  \n",
       "4415  Sungai Maron Pacitan  \n",
       "4416  Sungai Maron Pacitan  \n",
       "4417  Sungai Maron Pacitan  \n",
       "4418  Sungai Maron Pacitan  \n",
       "\n",
       "[4419 rows x 3 columns]"
      ]
     },
     "execution_count": 6,
     "metadata": {},
     "output_type": "execute_result"
    }
   ],
   "source": [
    "data = pd.read_csv('GMaps_Review_Ready.csv')\n",
    "data "
   ]
  },
  {
   "cell_type": "code",
   "execution_count": 7,
   "id": "df5a8976",
   "metadata": {},
   "outputs": [],
   "source": [
    "data = data.astype(str)"
   ]
  },
  {
   "cell_type": "code",
   "execution_count": 8,
   "id": "cfe660dc",
   "metadata": {},
   "outputs": [],
   "source": [
    "data['Review'] = data['Review'].apply(cleaning)"
   ]
  },
  {
   "cell_type": "code",
   "execution_count": 10,
   "id": "cb4e4fa1",
   "metadata": {},
   "outputs": [
    {
     "data": {
      "application/vnd.microsoft.datawrangler.viewer.v0+json": {
       "columns": [
        {
         "name": "index",
         "rawType": "int64",
         "type": "integer"
        },
        {
         "name": "Wisatawan Lokal",
         "rawType": "object",
         "type": "string"
        },
        {
         "name": "Review",
         "rawType": "object",
         "type": "string"
        },
        {
         "name": "Nama Tempat",
         "rawType": "object",
         "type": "string"
        }
       ],
       "conversionMethod": "pd.DataFrame",
       "ref": "e3f8e6f6-b351-4f15-aeec-5e3ad9c88936",
       "rows": [
        [
         "0",
         "True",
         "hidden gem",
         "Goa Gong Pacitan"
        ],
        [
         "1",
         "True",
         "goa yang sangat menarik wajib dikunjungi untuk menambah wawasan tentang alam",
         "Goa Gong Pacitan"
        ],
        [
         "2",
         "True",
         "hosjosssss",
         "Goa Gong Pacitan"
        ],
        [
         "3",
         "True",
         "resik resik tour gaetnya ramah istimewa",
         "Goa Gong Pacitan"
        ],
        [
         "4",
         "True",
         "cool",
         "Goa Gong Pacitan"
        ],
        [
         "5",
         "True",
         "tempat wisata nyg luar biasa keindahan nya patut untuk dicoba datang bersama keluarga tercinta",
         "Goa Gong Pacitan"
        ],
        [
         "6",
         "True",
         "recomend untuk trip ke pacitan",
         "Goa Gong Pacitan"
        ],
        [
         "7",
         "True",
         "pemandangan alam yang sangat bagus",
         "Goa Gong Pacitan"
        ],
        [
         "8",
         "True",
         "goa tercantik se asia tenggara kalau kesini wajib fit karena jalurnya lumayan masuk area goa juga harus hati hati setelah masuk anda akan disuguhi view menarik stalaktit stalagmit yang masih aktif",
         "Goa Gong Pacitan"
        ],
        [
         "9",
         "True",
         "goa gong menyuguhkan pemandangan stalaktit dan stalagmit yang indah walaupun tempat parkir bus jauh dari lokasi goa namun ada jasa ojek yang siap mengantarkan ke tempat wisata bagi yang ingin menyusuri goa sampai ke bawah bisa berpegangan di handle yang disediakan dan hatihati karena tangganya agak licin karena tetesan air dari atas dan curam wisatawan yang phobia ruang sempit atau memiliki masalah pernapasan harap berhatihati karena mulut goa sempit dan di dalam agak panas tapi semua itu terbayar lunas dengan pemandangan indah di dalam goa selamat mengeksplorasi",
         "Goa Gong Pacitan"
        ],
        [
         "10",
         "False",
         "mantap",
         "Goa Gong Pacitan"
        ],
        [
         "11",
         "True",
         "alami natural banget",
         "Goa Gong Pacitan"
        ],
        [
         "12",
         "True",
         "tres chouette",
         "Goa Gong Pacitan"
        ],
        [
         "13",
         "True",
         "goa nya oke banyak stalaktit dan stalakmit nya yang unik ada banyak pedagang di deket goanya jadi bisa buat oleholeh overall good but nothing special",
         "Goa Gong Pacitan"
        ],
        [
         "14",
         "True",
         "amazing",
         "Goa Gong Pacitan"
        ],
        [
         "15",
         "True",
         "goa tercantik dan terindah di pacitan bukti ke besaran allah swt karena ciptaannya itu emg luar biasa indahnya",
         "Goa Gong Pacitan"
        ],
        [
         "16",
         "False",
         "ada tour guide yang mendampingi serta menceritakan seluk beluk goa gong",
         "Goa Gong Pacitan"
        ],
        [
         "17",
         "True",
         "goa bawah tanah yang sangat menakjubkan sungguh sangatsangat indah kedua kalinya saya kesini mungkin karena konsep goa alami jadi secara penerangan di buat minim meski ada blowernya tapi tetap di dalam goa terasa sangat panas dan lembab tapi hal ini masih wajar karena di dalam goa minim sirkulasi udara apalagi saat pengunjungnya banyak terasa tambah gerahnya di dalam jalannya berupa tangga dari semen cor di beberapa bagian cukup curam dan licin jadi wajib hati dan di sarankan bawa senter agar jalannya lebih tampak lokasi pintu masuk goa tidak jauh dari parkiran bisa jalan kaki kalau mau kalau malas bisa pakai ojek tapi lokasi goanya masih jauh dari pintu masuknya jadi harus jalan menanjak terlebih dahulu jalan menuju goa sudah tangga semen cor juga kok ada yang jual cinderamata berupa gelang dari batu alam yang cantik penjual makanan juga ada dan tidak terlalu mahal",
         "Goa Gong Pacitan"
        ],
        [
         "18",
         "False",
         "wisata murah meriahtiket masuk yg dewasaanak anak parkir mobil murah meriah asyik tempatnya",
         "Goa Gong Pacitan"
        ],
        [
         "19",
         "True",
         "tempat bagusss sayang orang yang nawarin jasa senter payung ataupun pemandu sangat menganggu ditolak baik² malah ngelunjak hmmmm",
         "Goa Gong Pacitan"
        ],
        [
         "20",
         "True",
         "goa paling bagus se asia tenggara",
         "Goa Gong Pacitan"
        ],
        [
         "21",
         "True",
         "salah satu wisata alam di kabupaten pacitan yang sangat megah sangat cocok untuk tadabbur alammenikmati keagungan tuhan yang menciptakan keindahan dengan harga tiket cm ribu rupiahtak sebanding dengan keindahan yg kita dapatkan lokasi yg mudah dituju dan dipintu keluar kita akan disambut dengan pasar yang menjajakan",
         "Goa Gong Pacitan"
        ],
        [
         "22",
         "True",
         "masyaa alloh keren",
         "Goa Gong Pacitan"
        ],
        [
         "23",
         "True",
         "alam yang luar biasa",
         "Goa Gong Pacitan"
        ],
        [
         "24",
         "True",
         "berkunjung ke sini bersama rombongan teman untuk menikmati n mensyukuri keindahan alam berupa goa alami yang indah",
         "Goa Gong Pacitan"
        ],
        [
         "25",
         "True",
         "tidak terawat",
         "Goa Gong Pacitan"
        ],
        [
         "26",
         "False",
         "its a beautiful i admit but the walk after you already got out of the tunnel is time consuming not because that you need to went through dozens of vendori quiet like it honestly but because before you exit you need to go to this building that are not maintained properly and leaking everywhere making it a hazard for walking in the rainy season but overall the experience is worth it just need some repair in the buildinv that i mention",
         "Goa Gong Pacitan"
        ],
        [
         "27",
         "False",
         "tak bisa berkatakata udah bagus banget",
         "Goa Gong Pacitan"
        ],
        [
         "28",
         "True",
         "goanya dirawat bersih ga expect dalamnya panas bngt tp viewnya worth it",
         "Goa Gong Pacitan"
        ],
        [
         "29",
         "True",
         "lokasi pariwisataalam pegunungangoa yg menarik suasana alam air terdengar berjatuhan tiket murah parkir luas mudah dikunjungi",
         "Goa Gong Pacitan"
        ],
        [
         "30",
         "True",
         "saya malas jalan jauh dari parkiran masih pula harus jalan naik turun tangga mau pulang juga harus muterin pasar souvenir untuk apa masyaallah lelah sekali ini contoh tempat wisata yang kalau dikelola pemda malah jadi amburadul",
         "Goa Gong Pacitan"
        ],
        [
         "31",
         "False",
         "masyaallah sangat indah ciptaan allah",
         "Goa Gong Pacitan"
        ],
        [
         "32",
         "True",
         "pas musim hujan sangat licin jadi tidak bisa menikmati pemandangan yang indah karena fokus supaya gak terpleset",
         "Goa Gong Pacitan"
        ],
        [
         "33",
         "True",
         "luar biasa alami",
         "Goa Gong Pacitan"
        ],
        [
         "34",
         "True",
         "keren banget nggak rugi ke sini",
         "Goa Gong Pacitan"
        ],
        [
         "35",
         "True",
         "bagus saran bawa penerangan sendiri boleh ataumau pake jaasa sewasl senter juga bisa kalo mw pake jasa tour guide juga bisa cukup k hati² terpeleset ya karena licin",
         "Goa Gong Pacitan"
        ],
        [
         "36",
         "True",
         "goa gong pacitan jawa timur masuk kategori sbg salah satu goa terindah di asia tenggara sy dtg saat weekend dgn htm org dari area parkir menuju pintu masuk goa gong berjarak sekitar meter dgn jalan yg menanjak ada jasa ojek motor dgn tarif rupiah dan pengunjung akan diantar smp ke atas ada pula jasa pemandu dgn tarif rupiah yg akan menjelaskan mengenai setiap sudut ruang dari goa gong mulai dari ruang marmer ruang kristal sendang mata air sampai mempraktikkan memukul stalaktit stalagmit tertentu yg kemudian akan menghasilkan bunyi sprt gong ada jasa penyewaan senter juga dgn tarif rupiah krn di dlm cukup gelap walaupun sudah difasilitasi dgn adanya bbrp sumber penerangan banyak pedagang oleh² mulai dari makanan camilan pakaian sampai batu akik di dlm goa ada lampu warna warni yg di pasang utk memberikan efek dramatis selalu perhatikan langkah krn goa meneteskan air yg membuat jalan mnjd licin",
         "Goa Gong Pacitan"
        ],
        [
         "37",
         "True",
         "terakhir menjelajahi goa itu waktu aku masih umur tahunan kali ya dan tahun kemudian aku mencoba untuk menjelajahi goa gong di pacitan awalnya agak kesel ditawarin ojek karena katanya jauh tapi baru naik ternyata udah langsung sampai aja padahal yang jalannya agak panjang tuh dari pintu masuk ke lokasi goa nya hahaha tapi overall aku puas dengan pemandangan yang disuguhkan kaya kembali ke masa anak” yang melihat sesuatu yang indah itu langsung takjub cuman agak nyesel kemarin menolak tawaran pake pemandu wisata karena pikirnya paling bosen gak akan lama ditempat itu",
         "Goa Gong Pacitan"
        ],
        [
         "38",
         "True",
         "kesini sekitar jam sore dan untungnya sudah sepi jadi ngga crowded bebatuannya sangat bagus sekali bapak guide nya juga sangat ramah",
         "Goa Gong Pacitan"
        ],
        [
         "39",
         "True",
         "bagus cukup nggak ada kata lain agak pengap aja padahal masih sepi",
         "Goa Gong Pacitan"
        ],
        [
         "40",
         "False",
         "goanya besar sekali",
         "Goa Gong Pacitan"
        ],
        [
         "41",
         "True",
         "jalur menuju goanya cocok buat treking pemandangannya bagus dalam guanya sangat megah formasi bebatuannya menakjubkan terdapat beberapa titik penerangan di dalam sayangnya tidak ada petunjuk dimana letak batu yg berbunyi ketika dipukul katanya harus sewa guide orang situ yang tau letaknya",
         "Goa Gong Pacitan"
        ],
        [
         "42",
         "True",
         "kapan lagi masukke perut bumi gua gong ini obyek wisata yang wajib dikunjungi jika anda senang wisata alam stalaktit dan stalakmitnya luar biasa indah beberapa bahkan masih aktif terus tumbuh hindari akhir pekan dan waktu libur supaya bisa menikmati indahnya gua tanpa tergesagesa atau berdesakan pakai sepatu yang nyaman untuk berjalan krn anda akan banyak naik turun undakan disclaimer bagi yang takut tempat sempit dan takut gelap tidak disarankan ya bagi kaum sepuh yang sulit naik turun tangga juga tidak disarankan",
         "Goa Gong Pacitan"
        ],
        [
         "43",
         "True",
         "terlalu banyak ibu² menawarkan lampu senter dan guide juga fotographer terlalu banyak malah mengganggu",
         "Goa Gong Pacitan"
        ],
        [
         "44",
         "True",
         "sangat indah",
         "Goa Gong Pacitan"
        ],
        [
         "45",
         "True",
         "di dalam goa sudah terdapat beberapa blowerkipas angin",
         "Goa Gong Pacitan"
        ],
        [
         "46",
         "True",
         "cobain aja ya masuk goa dipastikan uasikkk ada petualangan tersendiri cuman aga panas gerah gunakan pakain tipis katun biar lebih nyaman",
         "Goa Gong Pacitan"
        ],
        [
         "47",
         "True",
         "gua karst yg ada di pegunungankunjungan kedua sudah banyak perubahan",
         "Goa Gong Pacitan"
        ],
        [
         "48",
         "True",
         "goa yang termasuk unesco geo park masuk pas weekday jadi sepi cuma ada pengunjung tiket masuk kalo gak salah k perorang parkir motor k lokasi parkir motor di depan gua kalau parkir mobil agak jauh harus jalan kaki naik sekitar m",
         "Goa Gong Pacitan"
        ],
        [
         "49",
         "True",
         "goa alam yg cantik dgn stalagmit stalagtitnya turunan tangganya curam sempit hrs ekstra hati krn ada jg batu licin di antara turunannya ticket hrga standar",
         "Goa Gong Pacitan"
        ]
       ],
       "shape": {
        "columns": 3,
        "rows": 4419
       }
      },
      "text/html": [
       "<div>\n",
       "<style scoped>\n",
       "    .dataframe tbody tr th:only-of-type {\n",
       "        vertical-align: middle;\n",
       "    }\n",
       "\n",
       "    .dataframe tbody tr th {\n",
       "        vertical-align: top;\n",
       "    }\n",
       "\n",
       "    .dataframe thead th {\n",
       "        text-align: right;\n",
       "    }\n",
       "</style>\n",
       "<table border=\"1\" class=\"dataframe\">\n",
       "  <thead>\n",
       "    <tr style=\"text-align: right;\">\n",
       "      <th></th>\n",
       "      <th>Wisatawan Lokal</th>\n",
       "      <th>Review</th>\n",
       "      <th>Nama Tempat</th>\n",
       "    </tr>\n",
       "  </thead>\n",
       "  <tbody>\n",
       "    <tr>\n",
       "      <th>0</th>\n",
       "      <td>True</td>\n",
       "      <td>hidden gem</td>\n",
       "      <td>Goa Gong Pacitan</td>\n",
       "    </tr>\n",
       "    <tr>\n",
       "      <th>1</th>\n",
       "      <td>True</td>\n",
       "      <td>goa yang sangat menarik wajib dikunjungi untuk...</td>\n",
       "      <td>Goa Gong Pacitan</td>\n",
       "    </tr>\n",
       "    <tr>\n",
       "      <th>2</th>\n",
       "      <td>True</td>\n",
       "      <td>hosjosssss</td>\n",
       "      <td>Goa Gong Pacitan</td>\n",
       "    </tr>\n",
       "    <tr>\n",
       "      <th>3</th>\n",
       "      <td>True</td>\n",
       "      <td>resik resik tour gaetnya ramah istimewa</td>\n",
       "      <td>Goa Gong Pacitan</td>\n",
       "    </tr>\n",
       "    <tr>\n",
       "      <th>4</th>\n",
       "      <td>True</td>\n",
       "      <td>cool</td>\n",
       "      <td>Goa Gong Pacitan</td>\n",
       "    </tr>\n",
       "    <tr>\n",
       "      <th>...</th>\n",
       "      <td>...</td>\n",
       "      <td>...</td>\n",
       "      <td>...</td>\n",
       "    </tr>\n",
       "    <tr>\n",
       "      <th>4414</th>\n",
       "      <td>True</td>\n",
       "      <td>menyusuri sungai maron</td>\n",
       "      <td>Sungai Maron Pacitan</td>\n",
       "    </tr>\n",
       "    <tr>\n",
       "      <th>4415</th>\n",
       "      <td>False</td>\n",
       "      <td>bagus</td>\n",
       "      <td>Sungai Maron Pacitan</td>\n",
       "    </tr>\n",
       "    <tr>\n",
       "      <th>4416</th>\n",
       "      <td>False</td>\n",
       "      <td>sangat bagus tetapi tidak puas terlalu terburu...</td>\n",
       "      <td>Sungai Maron Pacitan</td>\n",
       "    </tr>\n",
       "    <tr>\n",
       "      <th>4417</th>\n",
       "      <td>True</td>\n",
       "      <td>hening syahdu</td>\n",
       "      <td>Sungai Maron Pacitan</td>\n",
       "    </tr>\n",
       "    <tr>\n",
       "      <th>4418</th>\n",
       "      <td>True</td>\n",
       "      <td>perlu remidi berkunjung</td>\n",
       "      <td>Sungai Maron Pacitan</td>\n",
       "    </tr>\n",
       "  </tbody>\n",
       "</table>\n",
       "<p>4419 rows × 3 columns</p>\n",
       "</div>"
      ],
      "text/plain": [
       "     Wisatawan Lokal                                             Review  \\\n",
       "0               True                                         hidden gem   \n",
       "1               True  goa yang sangat menarik wajib dikunjungi untuk...   \n",
       "2               True                                         hosjosssss   \n",
       "3               True            resik resik tour gaetnya ramah istimewa   \n",
       "4               True                                               cool   \n",
       "...              ...                                                ...   \n",
       "4414            True                             menyusuri sungai maron   \n",
       "4415           False                                              bagus   \n",
       "4416           False  sangat bagus tetapi tidak puas terlalu terburu...   \n",
       "4417            True                                      hening syahdu   \n",
       "4418            True                            perlu remidi berkunjung   \n",
       "\n",
       "               Nama Tempat  \n",
       "0         Goa Gong Pacitan  \n",
       "1         Goa Gong Pacitan  \n",
       "2         Goa Gong Pacitan  \n",
       "3         Goa Gong Pacitan  \n",
       "4         Goa Gong Pacitan  \n",
       "...                    ...  \n",
       "4414  Sungai Maron Pacitan  \n",
       "4415  Sungai Maron Pacitan  \n",
       "4416  Sungai Maron Pacitan  \n",
       "4417  Sungai Maron Pacitan  \n",
       "4418  Sungai Maron Pacitan  \n",
       "\n",
       "[4419 rows x 3 columns]"
      ]
     },
     "execution_count": 10,
     "metadata": {},
     "output_type": "execute_result"
    }
   ],
   "source": [
    "data"
   ]
  },
  {
   "cell_type": "code",
   "execution_count": 11,
   "id": "98c29418",
   "metadata": {},
   "outputs": [],
   "source": [
    "# save\n",
    "data.to_csv('GMaps_Review_Cleaned.csv', index=False)"
   ]
  }
 ],
 "metadata": {
  "kernelspec": {
   "display_name": "Python 3",
   "language": "python",
   "name": "python3"
  },
  "language_info": {
   "codemirror_mode": {
    "name": "ipython",
    "version": 3
   },
   "file_extension": ".py",
   "mimetype": "text/x-python",
   "name": "python",
   "nbconvert_exporter": "python",
   "pygments_lexer": "ipython3",
   "version": "3.11.0"
  }
 },
 "nbformat": 4,
 "nbformat_minor": 5
}
